{
 "cells": [
  {
   "cell_type": "markdown",
   "metadata": {},
   "source": [
    "# Data Modelling I - Numerical\n",
    "\n",
    "In this unit, we're going to learn about the concept of *modelling* data, in a way that allows us to make predictions beyond the data set itself.  The main focus of this unit will be *regression* models for numerical data, though we will also use spline interpolation.  We'll first have a look at an example to motivate the goals in this unit. \n",
    "\n",
    "In addition to our normal package import, we'll be importing a few other packages as we go."
   ]
  },
  {
   "cell_type": "code",
   "execution_count": 1,
   "metadata": {},
   "outputs": [
    {
     "name": "stdout",
     "output_type": "stream",
     "text": [
      "Populating the interactive namespace from numpy and matplotlib\n"
     ]
    }
   ],
   "source": [
    "import pandas as pd\n",
    "import numpy as np\n",
    "\n",
    "import matplotlib.pyplot as plt\n",
    "%pylab inline\n",
    "pylab.rcParams['figure.figsize'] = (12.0, 10.0)"
   ]
  },
  {
   "cell_type": "markdown",
   "metadata": {},
   "source": [
    "## Modelling Cooling\n",
    "\n",
    "Suppose we made ourselves a cup of tea, and sat down with it and a thermometer.  Right as we sit down, we note that the temperature of the tea is 85 degrees Celsius.  Thirty seconds later, it's 80.3.  We continue measuring and find that the temperature values are 80.3, 75.4, 68.1, 64.6, 56.1, 55.6, and 51 degrees at 1,2,2.5,3.75,4, and 5 minutes respectively.  We noted that the ambient temperature of the room is 18 degrees.  Putting this all into a dataframe:"
   ]
  },
  {
   "cell_type": "code",
   "execution_count": 2,
   "metadata": {},
   "outputs": [
    {
     "data": {
      "text/html": [
       "<div>\n",
       "<style scoped>\n",
       "    .dataframe tbody tr th:only-of-type {\n",
       "        vertical-align: middle;\n",
       "    }\n",
       "\n",
       "    .dataframe tbody tr th {\n",
       "        vertical-align: top;\n",
       "    }\n",
       "\n",
       "    .dataframe thead th {\n",
       "        text-align: right;\n",
       "    }\n",
       "</style>\n",
       "<table border=\"1\" class=\"dataframe\">\n",
       "  <thead>\n",
       "    <tr style=\"text-align: right;\">\n",
       "      <th></th>\n",
       "      <th>Temp</th>\n",
       "    </tr>\n",
       "  </thead>\n",
       "  <tbody>\n",
       "    <tr>\n",
       "      <th>0.00</th>\n",
       "      <td>85.0</td>\n",
       "    </tr>\n",
       "    <tr>\n",
       "      <th>0.50</th>\n",
       "      <td>80.3</td>\n",
       "    </tr>\n",
       "    <tr>\n",
       "      <th>1.00</th>\n",
       "      <td>75.4</td>\n",
       "    </tr>\n",
       "    <tr>\n",
       "      <th>2.00</th>\n",
       "      <td>68.0</td>\n",
       "    </tr>\n",
       "    <tr>\n",
       "      <th>2.50</th>\n",
       "      <td>64.6</td>\n",
       "    </tr>\n",
       "    <tr>\n",
       "      <th>3.75</th>\n",
       "      <td>56.1</td>\n",
       "    </tr>\n",
       "    <tr>\n",
       "      <th>4.00</th>\n",
       "      <td>55.6</td>\n",
       "    </tr>\n",
       "    <tr>\n",
       "      <th>5.00</th>\n",
       "      <td>51.0</td>\n",
       "    </tr>\n",
       "  </tbody>\n",
       "</table>\n",
       "</div>"
      ],
      "text/plain": [
       "      Temp\n",
       "0.00  85.0\n",
       "0.50  80.3\n",
       "1.00  75.4\n",
       "2.00  68.0\n",
       "2.50  64.6\n",
       "3.75  56.1\n",
       "4.00  55.6\n",
       "5.00  51.0"
      ]
     },
     "execution_count": 2,
     "metadata": {},
     "output_type": "execute_result"
    }
   ],
   "source": [
    "t = pd.DataFrame({'Temp':[85.0, 80.3, 75.4, 68.0, 64.6, 56.1, 55.6, 51.0]}, index=[0,0.5,1,2,2.5,3.75,4,5])\n",
    "t"
   ]
  },
  {
   "cell_type": "markdown",
   "metadata": {},
   "source": [
    "If we were to plot this data, it would look like this:"
   ]
  },
  {
   "cell_type": "code",
   "execution_count": 3,
   "metadata": {},
   "outputs": [
    {
     "data": {
      "image/png": "[encoded data removed]",
      "text/plain": [
       "<Figure size 432x288 with 1 Axes>"
      ]
     },
     "metadata": {},
     "output_type": "display_data"
    }
   ],
   "source": [
    "scatter(t.index,t['Temp'],color='red');"
   ]
  },
  {
   "cell_type": "markdown",
   "metadata": {},
   "source": [
    "Now, what if we wanted to know what the temperature of the tea was going to be 10 minutes from when we started, without measuring it?  Or what if we wanted to know what the temperature was at 1.5 minutes from when we started, between two data points?  Our best bet would be to take the data we have, and fit a *mathematical model* to it, i.e.: create a function of time which outputs the temperature, and closely fits the data we have.  This way, we could input any time we wanted and have the model tell us what the temperature will be (within some level of error).  And, if our function is 'nice' enough, we could potentially take a given temperature and solve for what time that temperature occurs.\n",
    "\n",
    "In essence, we'll have a way to represent the underlying phenomena we were measuring with our data, and will be able to gain insight beyond the scope of the individual data points we collected."
   ]
  },
  {
   "cell_type": "markdown",
   "metadata": {},
   "source": [
    "Choosing a modelling technique depends on a number of things, including the type and shape of the data, complexity of the model, etc.  We'll be looking at a number of common modelling techniques shortly. Luckily for us, there is already a model that describes the cooling of objects (and is likely familiar to anyone who has taken first year calculus).  **Newton's Law of Cooling** states that the temperature $T$ at any time $t$ for an object of inital temperature $T_0$, sitting in an room of ambient temperature $\\tau$ is given by:\n",
    "\n",
    "$$ T(t) = \\tau + (T_0-\\tau)e^{-kt}. $$\n",
    "\n",
    "Here $k$ is a constant that depends on the particular objects involved, and has units of (time)$^{-1}$.  To solve for $k$, we would need two data points:  $T_0$, and the temperature $T_i$ at some other time $t_i$.  For our particular example, the value of $k\\cong -\\frac{1}{2}\\log(\\frac{50}{67})$, and so the equation becomes:\n",
    "\n",
    "$$ T(t) = 18 + (85 - 18)e^{\\frac{t}{2}\\log(\\frac{50}{67})} = 18 + 67\\sqrt{\\left(\\frac{50}{67}\\right)^t} $$"
   ]
  },
  {
   "cell_type": "markdown",
   "metadata": {},
   "source": [
    "We can define a Python function for the model:"
   ]
  },
  {
   "cell_type": "code",
   "execution_count": 4,
   "metadata": {},
   "outputs": [],
   "source": [
    "def cooling1(t):\n",
    "    return 18+67*((50/67)**(t/2))"
   ]
  },
  {
   "cell_type": "markdown",
   "metadata": {},
   "source": [
    "We've represented the change in temperatures as a fairly simple function, which allows us to -- given some initial conditions -- input whatever time we'd like to determine the temperature.  If we plot the function (with our particular value of $k$) against the data above, we have:"
   ]
  },
  {
   "cell_type": "code",
   "execution_count": 5,
   "metadata": {},
   "outputs": [
    {
     "data": {
      "image/png": "[encoded data removed]",
      "text/plain": [
       "<Figure size 432x288 with 1 Axes>"
      ]
     },
     "metadata": {},
     "output_type": "display_data"
    }
   ],
   "source": [
    "x = np.arange(0,6,0.01)\n",
    "plt.plot(x, cooling1(x),color='blue');\n",
    "scatter(t.index,t['Temp'],color='red');"
   ]
  },
  {
   "cell_type": "markdown",
   "metadata": {},
   "source": [
    "As we can see, the model fits the data very well!  (There are various methods for *validating* a model on a data set, which we will see in a later unit.)\n",
    "\n",
    "If we wanted to find out what the temperature was at 1.5 minutes (between two observations), we could compute:"
   ]
  },
  {
   "cell_type": "code",
   "execution_count": 6,
   "metadata": {},
   "outputs": [
    {
     "data": {
      "text/plain": [
       "71.795531651779"
      ]
     },
     "execution_count": 6,
     "metadata": {},
     "output_type": "execute_result"
    }
   ],
   "source": [
    "cooling1(1.5)"
   ]
  },
  {
   "cell_type": "markdown",
   "metadata": {},
   "source": [
    "If we wanted to make the model a little more in line with the measurements we took, we could round to one decimal place:"
   ]
  },
  {
   "cell_type": "code",
   "execution_count": 7,
   "metadata": {},
   "outputs": [
    {
     "data": {
      "text/plain": [
       "71.8"
      ]
     },
     "execution_count": 7,
     "metadata": {},
     "output_type": "execute_result"
    }
   ],
   "source": [
    "round(cooling1(1.5),1)"
   ]
  },
  {
   "cell_type": "markdown",
   "metadata": {},
   "source": [
    "And if we wanted to know what the temperature would be 10 minutes after we sat down:"
   ]
  },
  {
   "cell_type": "code",
   "execution_count": 8,
   "metadata": {},
   "outputs": [
    {
     "data": {
      "text/plain": [
       "33.5"
      ]
     },
     "execution_count": 8,
     "metadata": {},
     "output_type": "execute_result"
    }
   ],
   "source": [
    "round(cooling1(10),1)"
   ]
  },
  {
   "cell_type": "markdown",
   "metadata": {},
   "source": [
    "What would the temperature be after an hour?"
   ]
  },
  {
   "cell_type": "code",
   "execution_count": 9,
   "metadata": {},
   "outputs": [
    {
     "data": {
      "text/plain": [
       "18.0"
      ]
     },
     "execution_count": 9,
     "metadata": {},
     "output_type": "execute_result"
    }
   ],
   "source": [
    "round(cooling1(60),1)"
   ]
  },
  {
   "cell_type": "markdown",
   "metadata": {},
   "source": [
    "So by that point, the tea has cooled to the point where it is room temperature."
   ]
  },
  {
   "cell_type": "markdown",
   "metadata": {},
   "source": [
    "## Linear Regression\n",
    "\n",
    "One of the simplest, and also most commonly used methods for modelling a data set is *linear regression*.  This method presumes that the relationship of the dependent variables of your data set to the independent variables is linear.  In the two-dimensional case, where the dependent variable $y$ and the independent variable $x$ are scalars, a linear relation between the two would have the form:\n",
    "\n",
    "$$y = \\beta_0 +\\beta_1x + \\epsilon.$$\n",
    "            \n",
    "Here, the $\\beta_i$ are unknown coefficients that we must solve for, often called *regression coefficients*.  The $\\epsilon$ is an error term that attempts to account for other factors that influence the value of $y$ beyond the independent variables $x$ (often called the *regressors*).  Here is a visual example of a two-dimensional linear regression model:\n",
    "\n"
   ]
  },
  {
   "cell_type": "markdown",
   "metadata": {},
   "source": [
    " <img src=\"http://i.imgur.com/FFkyPbW.png\",width=700,height=700>"
   ]
  },
  {
   "cell_type": "markdown",
   "metadata": {},
   "source": [
    "More generally, linear regression finds a linear relation between the dependent variables $\\{y_i\\}$ and the independent variables $\\bf{x}_1,\\ldots,\\bf{x}_n$ (where each of these is a vector) with component equations:\n",
    "\n",
    "$$ y_i = \\beta_0 + \\beta_1x_{i1} + \\beta_2x_{i2} + \\ldots + \\epsilon_i $$\n",
    "\n",
    "Rewriting this in vector form:\n",
    "\n",
    "$$ \\begin{bmatrix}y_1\\\\y_2\\\\ \\vdots \\\\ y_n \\end{bmatrix} \\quad=\\quad \n",
    "\\begin{bmatrix}1 & x_{11} & x_{12} & \\ldots & x_{1p} \\\\ \n",
    "1 & x_{21} & x_{22} & \\ldots & x_{2p} \\\\\n",
    "\\vdots & \\vdots & \\vdots & \\ddots & \\vdots\\\\\n",
    "1 & x_{n1} & x_{n2} & \\ldots & x_{np}\\end{bmatrix}\n",
    "\\begin{bmatrix}\\beta_1\\\\\\beta_2\\\\ \\vdots \\\\ \\beta_n \\end{bmatrix} \\quad+\\quad \\begin{bmatrix}\\epsilon_1\\\\\\epsilon_2\\\\ \\vdots \\\\ \\epsilon_n \\end{bmatrix}$$\n",
    "\n",
    "Condensing this, using boldface to denote a vector:\n",
    "$$  \\bf{y} = \\bf{X}\\bf{\\beta} + \\bf{\\epsilon}, $$\n",
    "where $\\bf{X} = \\begin{bmatrix}\\bf{x}_1 & \\bf{x}_2 & \\ldots & \\bf{x}_n\\end{bmatrix}^T $."
   ]
  },
  {
   "cell_type": "markdown",
   "metadata": {},
   "source": [
    "### Least Squares\n",
    "\n",
    "How do we determine the coefficients $\\beta_i$?  One of the most commonly used methods is *Ordinary Least Squares* (OLS), owing to its simplicity.  If we rewrite the vector equation above, we have $\\bf{\\epsilon} = \\bf{X}\\bf{\\beta} - \\bf{y}$; OLS solves for $\\beta$ by find the values that minimize the \"size\", or magnitude, of $\\epsilon$.  The square of the magnitude of a vector $\\bf{v}$ is given by\n",
    "$$ \\big|\\big|\\,v\\,\\big|\\big|^2\\; = \\; v^Tv \\;=\\; \\begin{bmatrix}v_1 & v_2 & \\ldots & v_n\\end{bmatrix}\n",
    "\\begin{bmatrix}v_1 \\\\ v_2 \\\\ \\vdots \\\\ v_n\\end{bmatrix}\\; =\\; v_1^2 + v_2^2 + \\ldots + v_n^2$$\n",
    "\n",
    "So the OLS method finds the solutions in $\\beta$ that minimizes\n",
    "$$ \\big|\\big|\\,\\epsilon\\,\\big|\\big|^2 = (\\bf{X}\\bf{\\beta} - \\bf{y})^T(\\bf{X}\\bf{\\beta} - \\bf{y})$$\n",
    "\n",
    "As long as there is no perfect correlation (1 or -1) between any two of the $\\bf{x}_i$, then there is an explicit solution that minimizes the error terms:\n",
    "$$ \\beta = (\\bf{X}^T\\bf{X})^{-1}\\bf{X}^T\\bf{y}$$\n",
    "The details of this equation are not incredibly important at this stage (see the Appendix for more information), but its existence provides us with a simple and powerful way to compute linear regression models for most systems.  Many of the linear regression modelling tools that are included in programming packages will use this method by default.\n",
    "\n",
    "We'll look at two linear regression tools that come with Anaconda:  one from SciPy, and one from NumPy.  "
   ]
  },
  {
   "cell_type": "markdown",
   "metadata": {},
   "source": [
    "### Choosing Linear Regression\n",
    "\n",
    "Before we look at different implementations of linear regression, one question we should ask is \"when should we choose linear regression as our model?\".  The short answer is \"when there is a strong linear relation in our data\", and there are two ways that can help us determine this.  The first is visual inspection.  As an example, let's look at two data sets:"
   ]
  },
  {
   "cell_type": "code",
   "execution_count": 10,
   "metadata": {},
   "outputs": [],
   "source": [
    "# Independent Axis\n",
    "x = [x for x in range(-10,10)]\n",
    "\n",
    "# Dependent Axes\n",
    "y1 = [a + round(np.random.normal(0,0.75),2) for a in x]\n",
    "y2 = [a**2 + round(np.random.normal(0,3),2) for a in x]"
   ]
  },
  {
   "cell_type": "code",
   "execution_count": 11,
   "metadata": {},
   "outputs": [
    {
     "data": {
      "image/png": "[encoded data removed]",
      "text/plain": [
       "<Figure size 432x288 with 1 Axes>"
      ]
     },
     "metadata": {},
     "output_type": "display_data"
    }
   ],
   "source": [
    "scatter(x,y1);"
   ]
  },
  {
   "cell_type": "code",
   "execution_count": 12,
   "metadata": {},
   "outputs": [
    {
     "data": {
      "image/png": "[encoded data removed]",
      "text/plain": [
       "<Figure size 432x288 with 1 Axes>"
      ]
     },
     "metadata": {},
     "output_type": "display_data"
    }
   ],
   "source": [
    "scatter(x,y2);"
   ]
  },
  {
   "cell_type": "markdown",
   "metadata": {},
   "source": [
    "Ignoring how we made the data sets, the first plot certainly seems to be linear, but the second plot has distinct curvature that would lead us to believe that the data is not linearly related.\n",
    "\n",
    "The second tool we have is the Pearson correlation coefficient, which we learned was a measure of how strongly two data sets are *linearly related*.  The closer to 1 or -1 the correlation is, the more strongly linearly related the data is.  We compute the correlation for each of these sets:"
   ]
  },
  {
   "cell_type": "code",
   "execution_count": 13,
   "metadata": {},
   "outputs": [
    {
     "data": {
      "text/plain": [
       "array([[1.        , 0.99508831],\n",
       "       [0.99508831, 1.        ]])"
      ]
     },
     "execution_count": 13,
     "metadata": {},
     "output_type": "execute_result"
    }
   ],
   "source": [
    "numpy.corrcoef(x,y1)"
   ]
  },
  {
   "cell_type": "code",
   "execution_count": 14,
   "metadata": {},
   "outputs": [
    {
     "data": {
      "text/plain": [
       "array([[ 1.        , -0.19831905],\n",
       "       [-0.19831905,  1.        ]])"
      ]
     },
     "execution_count": 14,
     "metadata": {},
     "output_type": "execute_result"
    }
   ],
   "source": [
    "numpy.corrcoef(x,y2)"
   ]
  },
  {
   "cell_type": "markdown",
   "metadata": {},
   "source": [
    "The correlation for the first data set is very close to 1, reinforcing our conclusion from our visual inspection that the data is strongly linearly related.  The correlation for the second data set is much closer to 0, meaning there is no strong linear relation in the data."
   ]
  },
  {
   "cell_type": "markdown",
   "metadata": {},
   "source": [
    "### Using SciPy\n",
    "\n",
    "The first linear regression modelling tool we will look at is from SciPy, a science/math/engineering package included with Anaconda.  We must first import the `stats` sub-package from SciPy."
   ]
  },
  {
   "cell_type": "code",
   "execution_count": 15,
   "metadata": {},
   "outputs": [],
   "source": [
    "from scipy import stats"
   ]
  },
  {
   "cell_type": "markdown",
   "metadata": {},
   "source": [
    "Given an independent set $x$, and a dependent set $y$, the function `stats.linregress(x, y)` will produce the following quantities in order:  slope, intercept, r-value, p-value, stderr.  The r-value is the Pearson correlation coefficient, the stderr is the standard error of the estimated gradient, and the p-value we will learn about in a later unit.  The quantities we care about right now are the slope and the intercept, because they will allow us to define the equation of the line of our regression model.\n",
    "\n",
    "We'll start with a data set of 20 points:"
   ]
  },
  {
   "cell_type": "code",
   "execution_count": 16,
   "metadata": {},
   "outputs": [
    {
     "data": {
      "image/png": "[encoded data removed]",
      "text/plain": [
       "<Figure size 432x288 with 1 Axes>"
      ]
     },
     "metadata": {},
     "output_type": "display_data"
    }
   ],
   "source": [
    "x = np.arange(1,21,1)\n",
    "y = [1.3, 2.2, 1.0, 3.1, 2.8, 1.5, 2.1, 2.6, 3.7, 3.5, 3.7, 2.9, 3.7, 4.0, 4.3, 4.7, 4.4, 3.9, 4.8, 4.4]\n",
    "scatter(x,y);"
   ]
  },
  {
   "cell_type": "code",
   "execution_count": 17,
   "metadata": {},
   "outputs": [
    {
     "data": {
      "text/plain": [
       "array([[1.        , 0.87678028],\n",
       "       [0.87678028, 1.        ]])"
      ]
     },
     "execution_count": 17,
     "metadata": {},
     "output_type": "execute_result"
    }
   ],
   "source": [
    "numpy.corrcoef(x,y)\n",
    "# High correlation coefficient:"
   ]
  },
  {
   "cell_type": "code",
   "execution_count": 19,
   "metadata": {},
   "outputs": [],
   "source": [
    "slope, intercept, r_value, p_value, slope_std_error = stats.linregress(x, y)\n",
    "# We'll only be using the first two values, but since the function outputs all 5 values, \n",
    "# we need to account for them all."
   ]
  },
  {
   "cell_type": "markdown",
   "metadata": {},
   "source": [
    "We can call the individual variables to find the values of the slope and the intercept:"
   ]
  },
  {
   "cell_type": "code",
   "execution_count": 20,
   "metadata": {},
   "outputs": [
    {
     "data": {
      "text/plain": [
       "0.17007518796992485"
      ]
     },
     "execution_count": 20,
     "metadata": {},
     "output_type": "execute_result"
    }
   ],
   "source": [
    "slope"
   ]
  },
  {
   "cell_type": "code",
   "execution_count": 21,
   "metadata": {},
   "outputs": [
    {
     "data": {
      "text/plain": [
       "1.4442105263157885"
      ]
     },
     "execution_count": 21,
     "metadata": {},
     "output_type": "execute_result"
    }
   ],
   "source": [
    "intercept"
   ]
  },
  {
   "cell_type": "markdown",
   "metadata": {},
   "source": [
    "We can plot the line using the relation ` (intercept + slope * x)` as the `y`-value:"
   ]
  },
  {
   "cell_type": "code",
   "execution_count": 22,
   "metadata": {},
   "outputs": [
    {
     "data": {
      "image/png": "[encoded data removed]",
      "text/plain": [
       "<Figure size 432x288 with 1 Axes>"
      ]
     },
     "metadata": {},
     "output_type": "display_data"
    }
   ],
   "source": [
    "## can't use dates for regression. \n",
    "scatter(x,y)\n",
    "plt.plot(x,intercept + slope * x, color='red');"
   ]
  },
  {
   "cell_type": "markdown",
   "metadata": {},
   "source": [
    "### Using NumPy's  `polyfit()`\n",
    "\n",
    "The `polyfit()` function from NumPy is more powerful than a simple linear regression modelling tool: it can fit the data to any polynomial we want.  We will see polynomial regression soon, but we will limit ourselves to lines in this section.  The syntax for the function is<br>\n",
    "`np.polynomial.polynomial.polyfit(x, y, degree)`<br>\n",
    "where `degree` is the degree of the polynomial we wish to fit.  The function outputs the coefficients in ascending order; for linear regression, `degree=1`, it will output the intercept and the slope.  Using the same data as above:"
   ]
  },
  {
   "cell_type": "code",
   "execution_count": 23,
   "metadata": {},
   "outputs": [],
   "source": [
    "np_intercept, np_slope = np.polynomial.polynomial.polyfit(x, y, 1)"
   ]
  },
  {
   "cell_type": "code",
   "execution_count": 24,
   "metadata": {},
   "outputs": [
    {
     "data": {
      "text/plain": [
       "(1.44421052631579, 0.17007518796992477)"
      ]
     },
     "execution_count": 24,
     "metadata": {},
     "output_type": "execute_result"
    }
   ],
   "source": [
    "np_intercept, np_slope"
   ]
  },
  {
   "cell_type": "code",
   "execution_count": 25,
   "metadata": {},
   "outputs": [
    {
     "data": {
      "image/png": "[encoded data removed]",
      "text/plain": [
       "<Figure size 432x288 with 1 Axes>"
      ]
     },
     "metadata": {},
     "output_type": "display_data"
    }
   ],
   "source": [
    "scatter(x,y)\n",
    "plt.plot(x,np_intercept + np_slope*x, color='red');"
   ]
  },
  {
   "cell_type": "markdown",
   "metadata": {},
   "source": [
    "We can verify that both methods give the same regression line:"
   ]
  },
  {
   "cell_type": "code",
   "execution_count": 27,
   "metadata": {},
   "outputs": [
    {
     "data": {
      "image/png": "[encoded data removed]",
      "text/plain": [
       "<Figure size 432x288 with 1 Axes>"
      ]
     },
     "metadata": {},
     "output_type": "display_data"
    }
   ],
   "source": [
    "plt.plot(x,np_intercept + np_slope*x, color='red')\n",
    "plt.plot(x,intercept + slope * x, color='green');"
   ]
  },
  {
   "cell_type": "markdown",
   "metadata": {},
   "source": [
    "As an exercise, let's read in the `timeseries_1.csv` file again, and look towards modelling the volume with linear regression."
   ]
  },
  {
   "cell_type": "code",
   "execution_count": 75,
   "metadata": {},
   "outputs": [
    {
     "data": {
      "text/html": [
       "<div>\n",
       "<style scoped>\n",
       "    .dataframe tbody tr th:only-of-type {\n",
       "        vertical-align: middle;\n",
       "    }\n",
       "\n",
       "    .dataframe tbody tr th {\n",
       "        vertical-align: top;\n",
       "    }\n",
       "\n",
       "    .dataframe thead th {\n",
       "        text-align: right;\n",
       "    }\n",
       "</style>\n",
       "<table border=\"1\" class=\"dataframe\">\n",
       "  <thead>\n",
       "    <tr style=\"text-align: right;\">\n",
       "      <th></th>\n",
       "      <th>open</th>\n",
       "      <th>high</th>\n",
       "      <th>low</th>\n",
       "      <th>close</th>\n",
       "      <th>volume</th>\n",
       "    </tr>\n",
       "  </thead>\n",
       "  <tbody>\n",
       "    <tr>\n",
       "      <th>2014-02-01 08:00:00</th>\n",
       "      <td>748.1</td>\n",
       "      <td>748.2</td>\n",
       "      <td>746.7</td>\n",
       "      <td>746.8</td>\n",
       "      <td>39470</td>\n",
       "    </tr>\n",
       "    <tr>\n",
       "      <th>2014-02-01 08:01:00</th>\n",
       "      <td>746.9</td>\n",
       "      <td>747.1</td>\n",
       "      <td>746.8</td>\n",
       "      <td>746.8</td>\n",
       "      <td>10498</td>\n",
       "    </tr>\n",
       "    <tr>\n",
       "      <th>2014-02-01 08:02:00</th>\n",
       "      <td>746.8</td>\n",
       "      <td>747.2</td>\n",
       "      <td>746.7</td>\n",
       "      <td>747.1</td>\n",
       "      <td>7782</td>\n",
       "    </tr>\n",
       "    <tr>\n",
       "      <th>2014-02-01 08:03:00</th>\n",
       "      <td>747.2</td>\n",
       "      <td>747.8</td>\n",
       "      <td>747.1</td>\n",
       "      <td>747.6</td>\n",
       "      <td>10678</td>\n",
       "    </tr>\n",
       "    <tr>\n",
       "      <th>2014-02-01 08:04:00</th>\n",
       "      <td>747.5</td>\n",
       "      <td>747.8</td>\n",
       "      <td>747.5</td>\n",
       "      <td>747.8</td>\n",
       "      <td>3194</td>\n",
       "    </tr>\n",
       "  </tbody>\n",
       "</table>\n",
       "</div>"
      ],
      "text/plain": [
       "                      open   high    low  close  volume\n",
       "2014-02-01 08:00:00  748.1  748.2  746.7  746.8   39470\n",
       "2014-02-01 08:01:00  746.9  747.1  746.8  746.8   10498\n",
       "2014-02-01 08:02:00  746.8  747.2  746.7  747.1    7782\n",
       "2014-02-01 08:03:00  747.2  747.8  747.1  747.6   10678\n",
       "2014-02-01 08:04:00  747.5  747.8  747.5  747.8    3194"
      ]
     },
     "execution_count": 75,
     "metadata": {},
     "output_type": "execute_result"
    }
   ],
   "source": [
    "df = pd.read_csv('timeseries_1.csv', index_col = 0,parse_dates=True)\n",
    "df.head()"
   ]
  },
  {
   "cell_type": "code",
   "execution_count": 81,
   "metadata": {},
   "outputs": [
    {
     "data": {
      "text/plain": [
       "pandas.core.indexes.datetimes.DatetimeIndex"
      ]
     },
     "execution_count": 81,
     "metadata": {},
     "output_type": "execute_result"
    }
   ],
   "source": [
    "from datetime import datetime\n",
    "type(df.index)"
   ]
  },
  {
   "cell_type": "code",
   "execution_count": null,
   "metadata": {},
   "outputs": [],
   "source": []
  },
  {
   "cell_type": "code",
   "execution_count": null,
   "metadata": {},
   "outputs": [],
   "source": []
  },
  {
   "cell_type": "markdown",
   "metadata": {},
   "source": [
    "We'll create a scatter plot of the volume with the `plot_date(x,y)` function:"
   ]
  },
  {
   "cell_type": "code",
   "execution_count": 63,
   "metadata": {},
   "outputs": [
    {
     "data": {
      "text/plain": [
       "[<matplotlib.lines.Line2D at 0x1a1c32c400>]"
      ]
     },
     "execution_count": 63,
     "metadata": {},
     "output_type": "execute_result"
    },
    {
     "data": {
      "image/png": "[encoded data removed]",
      "text/plain": [
       "<Figure size 432x288 with 1 Axes>"
      ]
     },
     "metadata": {},
     "output_type": "display_data"
    }
   ],
   "source": [
    "plt.plot_date(df.index,df['volume'])"
   ]
  },
  {
   "cell_type": "markdown",
   "metadata": {},
   "source": [
    "If we try to do a linear regression on the volume, we get an error:"
   ]
  },
  {
   "cell_type": "code",
   "execution_count": 64,
   "metadata": {},
   "outputs": [
    {
     "ename": "TypeError",
     "evalue": "ufunc add cannot use operands with types dtype('<M8[ns]') and dtype('float64')",
     "output_type": "error",
     "traceback": [
      "\u001b[0;31m---------------------------------------------------------------------------\u001b[0m",
      "\u001b[0;31mTypeError\u001b[0m                                 Traceback (most recent call last)",
      "\u001b[0;32m<ipython-input-64-4a580191910b>\u001b[0m in \u001b[0;36m<module>\u001b[0;34m()\u001b[0m\n\u001b[0;32m----> 1\u001b[0;31m \u001b[0mv_int\u001b[0m\u001b[0;34m,\u001b[0m \u001b[0mv_slope\u001b[0m \u001b[0;34m=\u001b[0m \u001b[0mnp\u001b[0m\u001b[0;34m.\u001b[0m\u001b[0mpolynomial\u001b[0m\u001b[0;34m.\u001b[0m\u001b[0mpolynomial\u001b[0m\u001b[0;34m.\u001b[0m\u001b[0mpolyfit\u001b[0m\u001b[0;34m(\u001b[0m\u001b[0mdf\u001b[0m\u001b[0;34m.\u001b[0m\u001b[0mindex\u001b[0m\u001b[0;34m,\u001b[0m \u001b[0mdf\u001b[0m\u001b[0;34m[\u001b[0m\u001b[0;34m'volume'\u001b[0m\u001b[0;34m]\u001b[0m\u001b[0;34m,\u001b[0m \u001b[0;36m1\u001b[0m\u001b[0;34m)\u001b[0m\u001b[0;34m\u001b[0m\u001b[0m\n\u001b[0m",
      "\u001b[0;32m~/anaconda3/lib/python3.6/site-packages/numpy/polynomial/polynomial.py\u001b[0m in \u001b[0;36mpolyfit\u001b[0;34m(x, y, deg, rcond, full, w)\u001b[0m\n\u001b[1;32m   1425\u001b[0m \u001b[0;34m\u001b[0m\u001b[0m\n\u001b[1;32m   1426\u001b[0m     \"\"\"\n\u001b[0;32m-> 1427\u001b[0;31m     \u001b[0mx\u001b[0m \u001b[0;34m=\u001b[0m \u001b[0mnp\u001b[0m\u001b[0;34m.\u001b[0m\u001b[0masarray\u001b[0m\u001b[0;34m(\u001b[0m\u001b[0mx\u001b[0m\u001b[0;34m)\u001b[0m \u001b[0;34m+\u001b[0m \u001b[0;36m0.0\u001b[0m\u001b[0;34m\u001b[0m\u001b[0m\n\u001b[0m\u001b[1;32m   1428\u001b[0m     \u001b[0my\u001b[0m \u001b[0;34m=\u001b[0m \u001b[0mnp\u001b[0m\u001b[0;34m.\u001b[0m\u001b[0masarray\u001b[0m\u001b[0;34m(\u001b[0m\u001b[0my\u001b[0m\u001b[0;34m)\u001b[0m \u001b[0;34m+\u001b[0m \u001b[0;36m0.0\u001b[0m\u001b[0;34m\u001b[0m\u001b[0m\n\u001b[1;32m   1429\u001b[0m     \u001b[0mdeg\u001b[0m \u001b[0;34m=\u001b[0m \u001b[0mnp\u001b[0m\u001b[0;34m.\u001b[0m\u001b[0masarray\u001b[0m\u001b[0;34m(\u001b[0m\u001b[0mdeg\u001b[0m\u001b[0;34m)\u001b[0m\u001b[0;34m\u001b[0m\u001b[0m\n",
      "\u001b[0;31mTypeError\u001b[0m: ufunc add cannot use operands with types dtype('<M8[ns]') and dtype('float64')"
     ]
    }
   ],
   "source": [
    "v_int, v_slope = np.polynomial.polynomial.polyfit(df.index, df['volume'], 1)"
   ]
  },
  {
   "cell_type": "code",
   "execution_count": 55,
   "metadata": {},
   "outputs": [
    {
     "data": {
      "text/plain": [
       "(12870.103896103894, -757.61038961039)"
      ]
     },
     "execution_count": 55,
     "metadata": {},
     "output_type": "execute_result"
    }
   ],
   "source": [
    "v_int, v_slope"
   ]
  },
  {
   "cell_type": "code",
   "execution_count": 56,
   "metadata": {},
   "outputs": [
    {
     "ename": "ValueError",
     "evalue": "x and y must have same first dimension, but have shapes (21,) and (20,)",
     "output_type": "error",
     "traceback": [
      "\u001b[0;31m---------------------------------------------------------------------------\u001b[0m",
      "\u001b[0;31mValueError\u001b[0m                                Traceback (most recent call last)",
      "\u001b[0;32m<ipython-input-56-1ce7bb4fc147>\u001b[0m in \u001b[0;36m<module>\u001b[0;34m()\u001b[0m\n\u001b[0;32m----> 1\u001b[0;31m \u001b[0mplt\u001b[0m\u001b[0;34m.\u001b[0m\u001b[0mplot\u001b[0m\u001b[0;34m(\u001b[0m\u001b[0mdf\u001b[0m\u001b[0;34m.\u001b[0m\u001b[0mindex\u001b[0m\u001b[0;34m,\u001b[0m\u001b[0mv_int\u001b[0m \u001b[0;34m+\u001b[0m \u001b[0mv_slope\u001b[0m\u001b[0;34m*\u001b[0m\u001b[0mx\u001b[0m\u001b[0;34m,\u001b[0m \u001b[0mcolor\u001b[0m\u001b[0;34m=\u001b[0m\u001b[0;34m'red'\u001b[0m\u001b[0;34m)\u001b[0m\u001b[0;34m\u001b[0m\u001b[0m\n\u001b[0m",
      "\u001b[0;32m~/anaconda3/lib/python3.6/site-packages/matplotlib/pyplot.py\u001b[0m in \u001b[0;36mplot\u001b[0;34m(*args, **kwargs)\u001b[0m\n\u001b[1;32m   3356\u001b[0m                       mplDeprecation)\n\u001b[1;32m   3357\u001b[0m     \u001b[0;32mtry\u001b[0m\u001b[0;34m:\u001b[0m\u001b[0;34m\u001b[0m\u001b[0m\n\u001b[0;32m-> 3358\u001b[0;31m         \u001b[0mret\u001b[0m \u001b[0;34m=\u001b[0m \u001b[0max\u001b[0m\u001b[0;34m.\u001b[0m\u001b[0mplot\u001b[0m\u001b[0;34m(\u001b[0m\u001b[0;34m*\u001b[0m\u001b[0margs\u001b[0m\u001b[0;34m,\u001b[0m \u001b[0;34m**\u001b[0m\u001b[0mkwargs\u001b[0m\u001b[0;34m)\u001b[0m\u001b[0;34m\u001b[0m\u001b[0m\n\u001b[0m\u001b[1;32m   3359\u001b[0m     \u001b[0;32mfinally\u001b[0m\u001b[0;34m:\u001b[0m\u001b[0;34m\u001b[0m\u001b[0m\n\u001b[1;32m   3360\u001b[0m         \u001b[0max\u001b[0m\u001b[0;34m.\u001b[0m\u001b[0m_hold\u001b[0m \u001b[0;34m=\u001b[0m \u001b[0mwashold\u001b[0m\u001b[0;34m\u001b[0m\u001b[0m\n",
      "\u001b[0;32m~/anaconda3/lib/python3.6/site-packages/matplotlib/__init__.py\u001b[0m in \u001b[0;36minner\u001b[0;34m(ax, *args, **kwargs)\u001b[0m\n\u001b[1;32m   1853\u001b[0m                         \u001b[0;34m\"the Matplotlib list!)\"\u001b[0m \u001b[0;34m%\u001b[0m \u001b[0;34m(\u001b[0m\u001b[0mlabel_namer\u001b[0m\u001b[0;34m,\u001b[0m \u001b[0mfunc\u001b[0m\u001b[0;34m.\u001b[0m\u001b[0m__name__\u001b[0m\u001b[0;34m)\u001b[0m\u001b[0;34m,\u001b[0m\u001b[0;34m\u001b[0m\u001b[0m\n\u001b[1;32m   1854\u001b[0m                         RuntimeWarning, stacklevel=2)\n\u001b[0;32m-> 1855\u001b[0;31m             \u001b[0;32mreturn\u001b[0m \u001b[0mfunc\u001b[0m\u001b[0;34m(\u001b[0m\u001b[0max\u001b[0m\u001b[0;34m,\u001b[0m \u001b[0;34m*\u001b[0m\u001b[0margs\u001b[0m\u001b[0;34m,\u001b[0m \u001b[0;34m**\u001b[0m\u001b[0mkwargs\u001b[0m\u001b[0;34m)\u001b[0m\u001b[0;34m\u001b[0m\u001b[0m\n\u001b[0m\u001b[1;32m   1856\u001b[0m \u001b[0;34m\u001b[0m\u001b[0m\n\u001b[1;32m   1857\u001b[0m         inner.__doc__ = _add_data_doc(inner.__doc__,\n",
      "\u001b[0;32m~/anaconda3/lib/python3.6/site-packages/matplotlib/axes/_axes.py\u001b[0m in \u001b[0;36mplot\u001b[0;34m(self, *args, **kwargs)\u001b[0m\n\u001b[1;32m   1525\u001b[0m         \u001b[0mkwargs\u001b[0m \u001b[0;34m=\u001b[0m \u001b[0mcbook\u001b[0m\u001b[0;34m.\u001b[0m\u001b[0mnormalize_kwargs\u001b[0m\u001b[0;34m(\u001b[0m\u001b[0mkwargs\u001b[0m\u001b[0;34m,\u001b[0m \u001b[0m_alias_map\u001b[0m\u001b[0;34m)\u001b[0m\u001b[0;34m\u001b[0m\u001b[0m\n\u001b[1;32m   1526\u001b[0m \u001b[0;34m\u001b[0m\u001b[0m\n\u001b[0;32m-> 1527\u001b[0;31m         \u001b[0;32mfor\u001b[0m \u001b[0mline\u001b[0m \u001b[0;32min\u001b[0m \u001b[0mself\u001b[0m\u001b[0;34m.\u001b[0m\u001b[0m_get_lines\u001b[0m\u001b[0;34m(\u001b[0m\u001b[0;34m*\u001b[0m\u001b[0margs\u001b[0m\u001b[0;34m,\u001b[0m \u001b[0;34m**\u001b[0m\u001b[0mkwargs\u001b[0m\u001b[0;34m)\u001b[0m\u001b[0;34m:\u001b[0m\u001b[0;34m\u001b[0m\u001b[0m\n\u001b[0m\u001b[1;32m   1528\u001b[0m             \u001b[0mself\u001b[0m\u001b[0;34m.\u001b[0m\u001b[0madd_line\u001b[0m\u001b[0;34m(\u001b[0m\u001b[0mline\u001b[0m\u001b[0;34m)\u001b[0m\u001b[0;34m\u001b[0m\u001b[0m\n\u001b[1;32m   1529\u001b[0m             \u001b[0mlines\u001b[0m\u001b[0;34m.\u001b[0m\u001b[0mappend\u001b[0m\u001b[0;34m(\u001b[0m\u001b[0mline\u001b[0m\u001b[0;34m)\u001b[0m\u001b[0;34m\u001b[0m\u001b[0m\n",
      "\u001b[0;32m~/anaconda3/lib/python3.6/site-packages/matplotlib/axes/_base.py\u001b[0m in \u001b[0;36m_grab_next_args\u001b[0;34m(self, *args, **kwargs)\u001b[0m\n\u001b[1;32m    404\u001b[0m                 \u001b[0mthis\u001b[0m \u001b[0;34m+=\u001b[0m \u001b[0margs\u001b[0m\u001b[0;34m[\u001b[0m\u001b[0;36m0\u001b[0m\u001b[0;34m]\u001b[0m\u001b[0;34m,\u001b[0m\u001b[0;34m\u001b[0m\u001b[0m\n\u001b[1;32m    405\u001b[0m                 \u001b[0margs\u001b[0m \u001b[0;34m=\u001b[0m \u001b[0margs\u001b[0m\u001b[0;34m[\u001b[0m\u001b[0;36m1\u001b[0m\u001b[0;34m:\u001b[0m\u001b[0;34m]\u001b[0m\u001b[0;34m\u001b[0m\u001b[0m\n\u001b[0;32m--> 406\u001b[0;31m             \u001b[0;32mfor\u001b[0m \u001b[0mseg\u001b[0m \u001b[0;32min\u001b[0m \u001b[0mself\u001b[0m\u001b[0;34m.\u001b[0m\u001b[0m_plot_args\u001b[0m\u001b[0;34m(\u001b[0m\u001b[0mthis\u001b[0m\u001b[0;34m,\u001b[0m \u001b[0mkwargs\u001b[0m\u001b[0;34m)\u001b[0m\u001b[0;34m:\u001b[0m\u001b[0;34m\u001b[0m\u001b[0m\n\u001b[0m\u001b[1;32m    407\u001b[0m                 \u001b[0;32myield\u001b[0m \u001b[0mseg\u001b[0m\u001b[0;34m\u001b[0m\u001b[0m\n\u001b[1;32m    408\u001b[0m \u001b[0;34m\u001b[0m\u001b[0m\n",
      "\u001b[0;32m~/anaconda3/lib/python3.6/site-packages/matplotlib/axes/_base.py\u001b[0m in \u001b[0;36m_plot_args\u001b[0;34m(self, tup, kwargs)\u001b[0m\n\u001b[1;32m    381\u001b[0m             \u001b[0mx\u001b[0m\u001b[0;34m,\u001b[0m \u001b[0my\u001b[0m \u001b[0;34m=\u001b[0m \u001b[0mindex_of\u001b[0m\u001b[0;34m(\u001b[0m\u001b[0mtup\u001b[0m\u001b[0;34m[\u001b[0m\u001b[0;34m-\u001b[0m\u001b[0;36m1\u001b[0m\u001b[0;34m]\u001b[0m\u001b[0;34m)\u001b[0m\u001b[0;34m\u001b[0m\u001b[0m\n\u001b[1;32m    382\u001b[0m \u001b[0;34m\u001b[0m\u001b[0m\n\u001b[0;32m--> 383\u001b[0;31m         \u001b[0mx\u001b[0m\u001b[0;34m,\u001b[0m \u001b[0my\u001b[0m \u001b[0;34m=\u001b[0m \u001b[0mself\u001b[0m\u001b[0;34m.\u001b[0m\u001b[0m_xy_from_xy\u001b[0m\u001b[0;34m(\u001b[0m\u001b[0mx\u001b[0m\u001b[0;34m,\u001b[0m \u001b[0my\u001b[0m\u001b[0;34m)\u001b[0m\u001b[0;34m\u001b[0m\u001b[0m\n\u001b[0m\u001b[1;32m    384\u001b[0m \u001b[0;34m\u001b[0m\u001b[0m\n\u001b[1;32m    385\u001b[0m         \u001b[0;32mif\u001b[0m \u001b[0mself\u001b[0m\u001b[0;34m.\u001b[0m\u001b[0mcommand\u001b[0m \u001b[0;34m==\u001b[0m \u001b[0;34m'plot'\u001b[0m\u001b[0;34m:\u001b[0m\u001b[0;34m\u001b[0m\u001b[0m\n",
      "\u001b[0;32m~/anaconda3/lib/python3.6/site-packages/matplotlib/axes/_base.py\u001b[0m in \u001b[0;36m_xy_from_xy\u001b[0;34m(self, x, y)\u001b[0m\n\u001b[1;32m    240\u001b[0m         \u001b[0;32mif\u001b[0m \u001b[0mx\u001b[0m\u001b[0;34m.\u001b[0m\u001b[0mshape\u001b[0m\u001b[0;34m[\u001b[0m\u001b[0;36m0\u001b[0m\u001b[0;34m]\u001b[0m \u001b[0;34m!=\u001b[0m \u001b[0my\u001b[0m\u001b[0;34m.\u001b[0m\u001b[0mshape\u001b[0m\u001b[0;34m[\u001b[0m\u001b[0;36m0\u001b[0m\u001b[0;34m]\u001b[0m\u001b[0;34m:\u001b[0m\u001b[0;34m\u001b[0m\u001b[0m\n\u001b[1;32m    241\u001b[0m             raise ValueError(\"x and y must have same first dimension, but \"\n\u001b[0;32m--> 242\u001b[0;31m                              \"have shapes {} and {}\".format(x.shape, y.shape))\n\u001b[0m\u001b[1;32m    243\u001b[0m         \u001b[0;32mif\u001b[0m \u001b[0mx\u001b[0m\u001b[0;34m.\u001b[0m\u001b[0mndim\u001b[0m \u001b[0;34m>\u001b[0m \u001b[0;36m2\u001b[0m \u001b[0;32mor\u001b[0m \u001b[0my\u001b[0m\u001b[0;34m.\u001b[0m\u001b[0mndim\u001b[0m \u001b[0;34m>\u001b[0m \u001b[0;36m2\u001b[0m\u001b[0;34m:\u001b[0m\u001b[0;34m\u001b[0m\u001b[0m\n\u001b[1;32m    244\u001b[0m             raise ValueError(\"x and y can be no greater than 2-D, but have \"\n",
      "\u001b[0;31mValueError\u001b[0m: x and y must have same first dimension, but have shapes (21,) and (20,)"
     ]
    },
    {
     "data": {
      "image/png": "[encoded data removed]",
      "text/plain": [
       "<Figure size 432x288 with 1 Axes>"
      ]
     },
     "metadata": {},
     "output_type": "display_data"
    }
   ],
   "source": [
    "plt.plot(df.index,v_int + v_slope*x, color='red')"
   ]
  },
  {
   "cell_type": "code",
   "execution_count": 45,
   "metadata": {},
   "outputs": [
    {
     "data": {
      "text/html": [
       "<div>\n",
       "<style scoped>\n",
       "    .dataframe tbody tr th:only-of-type {\n",
       "        vertical-align: middle;\n",
       "    }\n",
       "\n",
       "    .dataframe tbody tr th {\n",
       "        vertical-align: top;\n",
       "    }\n",
       "\n",
       "    .dataframe thead th {\n",
       "        text-align: right;\n",
       "    }\n",
       "</style>\n",
       "<table border=\"1\" class=\"dataframe\">\n",
       "  <thead>\n",
       "    <tr style=\"text-align: right;\">\n",
       "      <th></th>\n",
       "      <th>Unnamed: 0</th>\n",
       "      <th>open</th>\n",
       "      <th>high</th>\n",
       "      <th>low</th>\n",
       "      <th>close</th>\n",
       "      <th>volume</th>\n",
       "    </tr>\n",
       "  </thead>\n",
       "  <tbody>\n",
       "    <tr>\n",
       "      <th>0</th>\n",
       "      <td>02/01/2014 8:00</td>\n",
       "      <td>748.1</td>\n",
       "      <td>748.2</td>\n",
       "      <td>746.7</td>\n",
       "      <td>746.8</td>\n",
       "      <td>39470</td>\n",
       "    </tr>\n",
       "    <tr>\n",
       "      <th>1</th>\n",
       "      <td>02/01/2014 8:01</td>\n",
       "      <td>746.9</td>\n",
       "      <td>747.1</td>\n",
       "      <td>746.8</td>\n",
       "      <td>746.8</td>\n",
       "      <td>10498</td>\n",
       "    </tr>\n",
       "    <tr>\n",
       "      <th>2</th>\n",
       "      <td>02/01/2014 8:02</td>\n",
       "      <td>746.8</td>\n",
       "      <td>747.2</td>\n",
       "      <td>746.7</td>\n",
       "      <td>747.1</td>\n",
       "      <td>7782</td>\n",
       "    </tr>\n",
       "    <tr>\n",
       "      <th>3</th>\n",
       "      <td>02/01/2014 8:03</td>\n",
       "      <td>747.2</td>\n",
       "      <td>747.8</td>\n",
       "      <td>747.1</td>\n",
       "      <td>747.6</td>\n",
       "      <td>10678</td>\n",
       "    </tr>\n",
       "    <tr>\n",
       "      <th>4</th>\n",
       "      <td>02/01/2014 8:04</td>\n",
       "      <td>747.5</td>\n",
       "      <td>747.8</td>\n",
       "      <td>747.5</td>\n",
       "      <td>747.8</td>\n",
       "      <td>3194</td>\n",
       "    </tr>\n",
       "  </tbody>\n",
       "</table>\n",
       "</div>"
      ],
      "text/plain": [
       "        Unnamed: 0   open   high    low  close  volume\n",
       "0  02/01/2014 8:00  748.1  748.2  746.7  746.8   39470\n",
       "1  02/01/2014 8:01  746.9  747.1  746.8  746.8   10498\n",
       "2  02/01/2014 8:02  746.8  747.2  746.7  747.1    7782\n",
       "3  02/01/2014 8:03  747.2  747.8  747.1  747.6   10678\n",
       "4  02/01/2014 8:04  747.5  747.8  747.5  747.8    3194"
      ]
     },
     "execution_count": 45,
     "metadata": {},
     "output_type": "execute_result"
    }
   ],
   "source": [
    "df2 = pd.read_csv('timeseries_1.csv',index_col=0,parse_dates=True)\n",
    "df.head()"
   ]
  },
  {
   "cell_type": "code",
   "execution_count": null,
   "metadata": {},
   "outputs": [],
   "source": [
    "v_int, v_slope = np.polynomial.polynomial.polyfit( , df['volume'], 1)"
   ]
  },
  {
   "cell_type": "markdown",
   "metadata": {},
   "source": [
    "The reason is that the regression code doesn't like datetime objects.  We know that the datetime stamps are equally spaced (one minute level); how could we adjust the dataframe so we could use the regression model?"
   ]
  },
  {
   "cell_type": "code",
   "execution_count": 34,
   "metadata": {},
   "outputs": [
    {
     "data": {
      "text/plain": [
       "(12870.103896103894, -757.61038961039)"
      ]
     },
     "execution_count": 34,
     "metadata": {},
     "output_type": "execute_result"
    }
   ],
   "source": [
    "v_int, v_slope"
   ]
  },
  {
   "cell_type": "markdown",
   "metadata": {},
   "source": [
    "Once we're able to make a regression model and graph it, does it visually seem to represent the data well?  What is the correlation coefficient?"
   ]
  },
  {
   "cell_type": "code",
   "execution_count": 49,
   "metadata": {},
   "outputs": [
    {
     "data": {
      "text/plain": [
       "array([[ 1.       , -0.5644404],\n",
       "       [-0.5644404,  1.       ]])"
      ]
     },
     "execution_count": 49,
     "metadata": {},
     "output_type": "execute_result"
    }
   ],
   "source": [
    "np.corrcoef(df.index, df['volume'])"
   ]
  },
  {
   "cell_type": "markdown",
   "metadata": {
    "collapsed": true
   },
   "source": [
    "### Revisiting House Prices\n",
    "\n",
    "Back in the presentation for Unit 1, we saw a visualization of a data set containing house prices (in thousands of dollars) and area (in square feet).  Let's load in the actual data set:"
   ]
  },
  {
   "cell_type": "code",
   "execution_count": null,
   "metadata": {},
   "outputs": [],
   "source": [
    "hp = pd.read_csv('house_prices.csv',index_col=0)\n",
    "hp.head()"
   ]
  },
  {
   "cell_type": "code",
   "execution_count": null,
   "metadata": {},
   "outputs": [],
   "source": [
    "plt.scatter(hp['Size'],hp['Price'])\n",
    "plt.xlabel('House Size (Sq. Feet)')\n",
    "plt.ylabel('House Price ($1000s)')\n",
    "plt.grid()\n",
    "plt.show()"
   ]
  },
  {
   "cell_type": "markdown",
   "metadata": {},
   "source": [
    "We compute the correlation coefficient:"
   ]
  },
  {
   "cell_type": "code",
   "execution_count": null,
   "metadata": {},
   "outputs": [],
   "source": [
    "hp.corr()"
   ]
  },
  {
   "cell_type": "markdown",
   "metadata": {},
   "source": [
    "Which is very close to one.  So between the visual inspection of the scatter plot, and the correlation coefficient, we can be very confident of a linear relationship between the data.  We create a linear regression model with the `polyfit` function:"
   ]
  },
  {
   "cell_type": "code",
   "execution_count": null,
   "metadata": {
    "collapsed": true
   },
   "outputs": [],
   "source": [
    "hp_int, hp_slope = np.polynomial.polynomial.polyfit(hp['Size'], hp['Price'], 1)\n",
    "\n",
    "def house_model(x):\n",
    "    return x*hp_slope + hp_int"
   ]
  },
  {
   "cell_type": "code",
   "execution_count": null,
   "metadata": {},
   "outputs": [],
   "source": [
    "plt.scatter(hp['Size'],hp['Price'], label='Price vs Size')\n",
    "plt.plot(hp['Size'], house_model(hp['Size']),color='red',label='Regression Model')\n",
    "plt.xlabel('House Size (Sq. Feet)')\n",
    "plt.ylabel('House Price ($1000s)')\n",
    "plt.legend()\n",
    "plt.grid()\n",
    "plt.show()"
   ]
  },
  {
   "cell_type": "markdown",
   "metadata": {},
   "source": [
    "Now with this model, we can predict house prices not included:"
   ]
  },
  {
   "cell_type": "code",
   "execution_count": null,
   "metadata": {},
   "outputs": [],
   "source": [
    "house_model(3000)"
   ]
  },
  {
   "cell_type": "code",
   "execution_count": null,
   "metadata": {},
   "outputs": [],
   "source": [
    "house_model(4500)"
   ]
  },
  {
   "cell_type": "markdown",
   "metadata": {},
   "source": [
    "# Shortcomings of Linear Regression\n",
    "\n",
    "Linear regression is very popular because of its simplicity.  One major issue with using it, though, arises when the relationship in your data is *not* linear, such as with our cooling cup of tea.  Additionally, linear regression is very sensitive to the presence of outliers in the data.  In this case, cleaning the data, and understanding other kinds of relations present in the data are key to choosing the right modelling technique.\n",
    "\n",
    "The statistician Francis Anscombe created a collection of four data sets -- called Anscombe's Quartet -- that have identical descriptive statistics (correlation of x and y, mean of x, mean of y, variance of x, number of data points, etc.), and identical regression lines.  The accuracy of the regression models vary wildly between sets, however.  Anscombe created this set of examples to show that visualizing and understanding data sets before modelling is very important.  Here are the four pieces of Anscombe's Quartet:"
   ]
  },
  {
   "cell_type": "markdown",
   "metadata": {},
   "source": [
    "<img src=\"http://i.imgur.com/jvNtl1M.png\",width=700,height=700>"
   ]
  },
  {
   "cell_type": "markdown",
   "metadata": {},
   "source": [
    "In $y_1$, the regression line fits quite well.  In $y_2$, there definitely is a relation, but it isn't linear.  In $y_3$ there *is* a linear relation, but the presence of an outlier skews the regression model.  Lastly, there isn't any discernible relationship between the variables in $y_4$, but a fairly extreme outlier produces a large correlation coefficient, and the resulting linear regression model doesn't accurately model anything.\n",
    "\n",
    "\n",
    "One shouldn't apply any kind of modelling technique blindly, but first try to gain an understanding of what the data looks like, and what assumptions exist about relationships in the data.  "
   ]
  },
  {
   "cell_type": "markdown",
   "metadata": {},
   "source": [
    "## Polynomial Regression\n",
    "\n",
    "When our data isn't related linearly, we need to find another method to create a model.  *Polynomial regression* is the natural extension of linear regression:  instead of trying to fit a line to the data set, we will try to fit a polynomial.  As a reminder, a polynomial (of one variable) is an equation of the form:\n",
    "  $$ p(x) = a_0 + a_1x + a_2x^2 + \\ldots + a_nx^n, $$\n",
    "where the $a_i$ are the *coefficients*, and the number $n$ is the *degree* of the polynomial.  The method is set up in the same fashion as linear regression, following an equation of the form:\n",
    "\n",
    "$$ y = \\beta_0 + \\beta_1x + \\beta_2x^2 + \\ldots +\\beta_nx^n + \\epsilon $$\n",
    "\n",
    "The simplest forms of the first three non-linear polynomials are the quadratic $y=x^2$, the cubic $y=x^3$, and the quartic $y=x^4$:"
   ]
  },
  {
   "cell_type": "code",
   "execution_count": null,
   "metadata": {},
   "outputs": [],
   "source": [
    "poly_x = np.arange(-3,3,0.01)\n",
    "plt.plot(poly_x, poly_x**2, label='Quadratic');\n",
    "plt.plot(poly_x, poly_x**3, label='Cubic');\n",
    "plt.plot(poly_x, poly_x**4, label='Quartic');\n",
    "plt.plot(poly_x, poly_x*0, color='black',linewidth=0.90)\n",
    "plt.axvline(x=0,color='black', linewidth=0.9)\n",
    "plt.grid()\n",
    "plt.legend()\n",
    "plt.ylim(-20,20)\n",
    "plt.xlim(-3,3)"
   ]
  },
  {
   "cell_type": "markdown",
   "metadata": {},
   "source": [
    "Adding nonzero coefficients to the other terms can cause the graph to change.  Here are $y=x^3$ and $y=-x^3+2x^2-5x+4$ graphed together:"
   ]
  },
  {
   "cell_type": "code",
   "execution_count": null,
   "metadata": {},
   "outputs": [],
   "source": [
    "plt.plot(poly_x, poly_x**3);\n",
    "plt.plot(poly_x, -poly_x**3 + 2*poly_x**2 - 5*poly_x+4);\n",
    "plt.plot(poly_x, poly_x*0, color='black',linewidth=0.90)\n",
    "plt.axvline(x=0,color='black', linewidth=0.9)\n",
    "plt.grid()\n",
    "plt.ylim(-20,20)\n",
    "plt.xlim(-3,3)"
   ]
  },
  {
   "cell_type": "markdown",
   "metadata": {},
   "source": [
    "Let us reference the `x,y` we defined earlier:<br>\n",
    "`x = np.arange(1,21,1)`<br>\n",
    "`y = [1.3, 2.2, 1.0, 3.1, 2.8, 1.5, 2.1, 2.6, 3.7, 3.5, 3.7, 2.9, 3.7, 4.0, 4.3, 4.7, 4.4, 3.9, 4.8, 4.4]`\n",
    "\n",
    "We created a linear regression model for the data; let's create a quadratic regression model and see how they compare, visually."
   ]
  },
  {
   "cell_type": "code",
   "execution_count": null,
   "metadata": {},
   "outputs": [],
   "source": [
    "np0, np1, np2 = np.polynomial.polynomial.polyfit(x, y, 2)\n",
    "scatter(x,y)\n",
    "plt.plot(x,np0 + np1*x + np2*(x**2), color='red');"
   ]
  },
  {
   "cell_type": "markdown",
   "metadata": {},
   "source": [
    "Plotting this model against the original:"
   ]
  },
  {
   "cell_type": "code",
   "execution_count": null,
   "metadata": {},
   "outputs": [],
   "source": [
    "scatter(x,y);\n",
    "plt.plot(x,np_intercept + np_slope*x, color='green');\n",
    "plt.plot(x,np0 + np1*x + np2*(x**2), color='red');"
   ]
  },
  {
   "cell_type": "markdown",
   "metadata": {},
   "source": [
    "Visual inspection suggestes that this may be following the data a little more closely than the linear model, so it may be a more accurate way to model the relationship in the data.  A more obvious example is:"
   ]
  },
  {
   "cell_type": "code",
   "execution_count": null,
   "metadata": {},
   "outputs": [],
   "source": [
    "x_q = np.array([0,0.9,1.5,2.1,2.4,2.9,3.1,3.8,4.4,5.5])\n",
    "y_q = np.array([-7.3, -2.1, -0.45, 1.39, 1.14, 1.92, 2.05, 1.26, 0.09, -4.35])\n",
    "x_r = np.arange(0,6,0.01)\n",
    "\n",
    "scatter(x_q,y_q);"
   ]
  },
  {
   "cell_type": "code",
   "execution_count": null,
   "metadata": {},
   "outputs": [],
   "source": [
    "np.corrcoef(x_q,y_q)"
   ]
  },
  {
   "cell_type": "code",
   "execution_count": null,
   "metadata": {},
   "outputs": [],
   "source": [
    "int_q, sl_q = np.polynomial.polynomial.polyfit(x_q, y_q, 1)\n",
    "p0, p1, p2 = np.polynomial.polynomial.polyfit(x_q, y_q, 2)\n",
    "scatter(x_q,y_q)\n",
    "plt.plot(x_q,int_q + sl_q*x_q , color='green');\n",
    "plt.plot(x_r,p0 + p1*x_r + p2*(x_r**2), color='red');"
   ]
  },
  {
   "cell_type": "markdown",
   "metadata": {},
   "source": [
    "The linear regression model is clearly ill-suited for this data set, whereas the quadratic model is much more accurate.\n",
    "\n",
    "Polynomial regression allows us to capture relationships in more complicated data sets, but the more complicated our model becomes the more likely we are to *overfit* the data."
   ]
  },
  {
   "cell_type": "markdown",
   "metadata": {},
   "source": [
    "### Overfitting\n",
    "\n",
    "While we may be tempted to use very high-degree polynomials to model our data, one problem that arises is *overfitting*.  This means that our model overcomplicates the data and creates structure out of noise.  Overfit models will make diverging and erroneous predicts.\n",
    "\n",
    "If we try to fit a sixth-degree polynomial to the `x,y` data we just looked at, we get:"
   ]
  },
  {
   "cell_type": "code",
   "execution_count": null,
   "metadata": {},
   "outputs": [],
   "source": [
    "b0, b1, b2, b3, b4, b5, b6  = np.polynomial.polynomial.polyfit(x, y, 6)\n",
    "x_6 = np.arange(0,20+0.01,0.01)\n",
    "scatter(x,y)\n",
    "plt.plot(x_6,b0 + b1*x_6 + b2*(x_6**2)+ b3*(x_6**3)+ b4*(x_6**4)+ b5*(x_6**5)+ b6*(x_6**6), color='red');"
   ]
  },
  {
   "cell_type": "markdown",
   "metadata": {},
   "source": [
    "While this model is certainly more complex than a line, it's not overly clear that this is accurately represents the relationships in the data.  As a more extreme example, let's look at a data set of 10 points:"
   ]
  },
  {
   "cell_type": "code",
   "execution_count": null,
   "metadata": {},
   "outputs": [],
   "source": [
    "x1 = np.array([0.1,2.1,2.5,3.3,6.1,7.2,8.3,8.7,9.0])\n",
    "y1 = np.array([3.1,1.5,3.5,2.0,6.0,8.5,7.1,9.5,6.7])\n",
    "# We turn them into arrays because NumPy doesn't like using lists of non-integers to graph things.\n",
    "scatter(x1,y1);"
   ]
  },
  {
   "cell_type": "markdown",
   "metadata": {},
   "source": [
    "Because this data set is small, any model we make is sensitive to small changes in data values.  Fitting a linear regression model visually seems to represent the data quite well:"
   ]
  },
  {
   "cell_type": "code",
   "execution_count": null,
   "metadata": {},
   "outputs": [],
   "source": [
    "intc,slp = np.polynomial.polynomial.polyfit(x1, y1, 1)\n",
    "d0, d1, d2, d3, d4, d5 = np.polynomial.polynomial.polyfit(x1, y1, 5)\n",
    "\n",
    "scatter(x1,y1);\n",
    "x2 = np.arange(0,10+0.01,0.01)\n",
    "plt.plot(x2, intc+slp*x2,color='#F14B01');"
   ]
  },
  {
   "cell_type": "markdown",
   "metadata": {},
   "source": [
    "Fitting a degree 5, and a degree 6 polynomial to the data set, however, result in strongly diverging models:"
   ]
  },
  {
   "cell_type": "code",
   "execution_count": null,
   "metadata": {},
   "outputs": [],
   "source": [
    "scatter(x1,y1);\n",
    "x2 = np.arange(0,10+0.01,0.01)\n",
    "plt.plot(x2, intc+slp*x2,color='#F14B01');\n",
    "plt.plot(x2,d0 + d1*x2 + d2*(x2**2)+ d3*(x2**3)+ d4*(x2**4)+ d5*(x2**5), color='green');"
   ]
  },
  {
   "cell_type": "code",
   "execution_count": null,
   "metadata": {},
   "outputs": [],
   "source": [
    "c0, c1, c2, c3, c4, c5, c6  = np.polynomial.polynomial.polyfit(x1, y1, 6)\n",
    "scatter(x1,y1);\n",
    "x2 = np.arange(0,10+0.01,0.01)\n",
    "plt.plot(x2, intc+slp*x2,color='#F14B01');\n",
    "plt.plot(x2,c0 + c1*x2 + c2*(x2**2)+ c3*(x2**3)+ c4*(x2**4)+ c5*(x2**5)+ c6*(x2**6), color='green');"
   ]
  },
  {
   "cell_type": "markdown",
   "metadata": {},
   "source": [
    "Both of these models are overly complicated for the data that's given, and produce very different results.   If the data was the temperature of an object sitting outside for given time period, then the linear model would predict the temperature at time period $t=10$ to be:"
   ]
  },
  {
   "cell_type": "code",
   "execution_count": null,
   "metadata": {},
   "outputs": [],
   "source": [
    "intc+slp*10"
   ]
  },
  {
   "cell_type": "markdown",
   "metadata": {},
   "source": [
    "But the fifth and sixth degree polynomial models would predict the temperature at $t=10$ to be:"
   ]
  },
  {
   "cell_type": "code",
   "execution_count": null,
   "metadata": {},
   "outputs": [],
   "source": [
    "print(d0 + d1*10.0 + d2*(10.0**2)+ d3*(10.0**3)+ d4*(10.0**4)+ d5*(10.0**5))\n",
    "print(c0 + c1*10.0 + c2*(10.0**2)+ c3*(10.0**3)+ c4*(10.0**4)+ c5*(10.0**5)+ c6*10.0**6)"
   ]
  },
  {
   "cell_type": "markdown",
   "metadata": {},
   "source": [
    "These are very different values, and the continue to diverge pretty badly.  As $t=12$:"
   ]
  },
  {
   "cell_type": "code",
   "execution_count": null,
   "metadata": {},
   "outputs": [],
   "source": [
    "print('linear at t=12 is', intc+slp*12)\n",
    "print('quintic at t=12 is', d0 + d1*12.0 + d2*(12.0**2)+ d3*(12.0**3)+ d4*(12.0**4)+ d5*(12.0**5))\n",
    "print('hexic at t=12 is',c0 + c1*12.0 + c2*(12.0**2)+ c3*(12.0**3)+ c4*(12.0**4)+ c5*(12.0**5)+ c6*12.0**6)"
   ]
  },
  {
   "cell_type": "markdown",
   "metadata": {},
   "source": [
    "Would we really expect the temperature of an object sitting outside to suddenly be 120 degrees shortly after it was 9 degrees?  Or suddenly -32 degrees?  Probably not."
   ]
  },
  {
   "cell_type": "code",
   "execution_count": null,
   "metadata": {},
   "outputs": [],
   "source": [
    "scatter(x1,y1);\n",
    "x2 = np.arange(0,11+0.01,0.01)\n",
    "plt.plot(x2, intc+slp*x2,color='#F14B01');\n",
    "plt.plot(x2,d0 + d1*x2 + d2*(x2**2)+ d3*(x2**3)+ d4*(x2**4)+ d5*(x2**5), color='green');\n",
    "plt.plot(x2,c0 + c1*x2 + c2*(x2**2)+ c3*(x2**3)+ c4*(x2**4)+ c5*(x2**5)+ c6*(x2**6), color='purple');"
   ]
  },
  {
   "cell_type": "markdown",
   "metadata": {},
   "source": [
    "Based on the data we have, the quintic and hexic models become incredibly unreasonable and their predictions are not very useful to us.\n",
    "\n",
    "In cases like this (low count, high noise data), keeping the model as simple as possible is likely in our best interest.  The validation techniques in a later unit will help us determine how accurate our models are for our data, and thus which model we should choose."
   ]
  },
  {
   "cell_type": "markdown",
   "metadata": {},
   "source": [
    "## Multiple Linear Regression\n",
    "\n",
    "While we discussed linear regression in full generality, all of the examples we've seen so far have only been one dimension of independents and one dimension of dependents.  i.e.: they've been of the form:\n",
    "$$ y = \\beta_0 + \\beta_1x. $$\n",
    "\n",
    "To give us a better sense of more complicated problems, we'll look at increasing the dimension of independents by 1; i.e.: we're going to fit a model using the equation:\n",
    "\n",
    "$$ y = \\beta_0 + \\beta_1x_1 + \\beta_2x_2. $$\n",
    "\n",
    "This equation is something that we can still very easily visualize, because it described a *plane* in three-dimensional space (recall:  the standard equation of a plane in coordinates $(x,y,z)$ in $\\mathbb{R}^3$ is given by $\\alpha_1x+\\alpha_2y+\\alpha_3z +\\alpha_4=0$).  \n",
    "\n",
    "We'll load in a set of marketing & sales data, from the `MLR.csv` file."
   ]
  },
  {
   "cell_type": "code",
   "execution_count": null,
   "metadata": {},
   "outputs": [],
   "source": [
    "dfm = pd.read_csv('MLR.csv')\n",
    "dfm.head(15)"
   ]
  },
  {
   "cell_type": "markdown",
   "metadata": {},
   "source": [
    "Here, we have the Marketing Budget in hundreds of dollars, website visits measured in tens of visits, and the number of sales during the campaign (each row is a different vendor).  If we look at the correlation matrix, we can see that the data are pair-wise highly correlated, leading us to believe they is a linear relation."
   ]
  },
  {
   "cell_type": "code",
   "execution_count": null,
   "metadata": {},
   "outputs": [],
   "source": [
    "dfm.corr()"
   ]
  },
  {
   "cell_type": "markdown",
   "metadata": {},
   "source": [
    " We can do a scatter plot using the 3d plotting techniques we learned in the visualization unit:"
   ]
  },
  {
   "cell_type": "code",
   "execution_count": null,
   "metadata": {
    "scrolled": false
   },
   "outputs": [],
   "source": [
    "import mpl_toolkits.mplot3d as m3d\n",
    "\n",
    "fig3d = m3d.Axes3D(plt.figure())\n",
    "fig3d.scatter3D(dfm['Marketing Budget'],dfm['Website Visits'],dfm['Number of Sales'], color='red')\n",
    "fig3d.set_xlabel('Marketing Budget ($100)')\n",
    "fig3d.set_ylabel('Website Visits (10)')\n",
    "fig3d.set_zlabel('Number of Sales')\n",
    "plt.show()"
   ]
  },
  {
   "cell_type": "markdown",
   "metadata": {},
   "source": [
    "We're going to use scikit-learn's regression tools, but will look at a different one in the exercises.  We need to import the `linear_model` sub-package from `sklearn`, and then define a variable as an instance of the `LinearRegression` tool."
   ]
  },
  {
   "cell_type": "code",
   "execution_count": null,
   "metadata": {
    "collapsed": true
   },
   "outputs": [],
   "source": [
    "from sklearn import linear_model\n",
    "reg = linear_model.LinearRegression()"
   ]
  },
  {
   "cell_type": "markdown",
   "metadata": {},
   "source": [
    "In our case, the `Marketing Budget` and `Website Visits` are our *features*, and the dependent variable is the `Number of Sales`.  To perform the regression, we feed `reg.fit()` the independents, and then the dependent.  We can obtain the coefficients and the intercept for the linear model as follows:"
   ]
  },
  {
   "cell_type": "code",
   "execution_count": null,
   "metadata": {
    "collapsed": true
   },
   "outputs": [],
   "source": [
    "reg.fit(dfm[['Marketing Budget','Website Visits']],dfm['Number of Sales'])\n",
    "a,b = reg.coef_\n",
    "c = reg.intercept_"
   ]
  },
  {
   "cell_type": "code",
   "execution_count": null,
   "metadata": {},
   "outputs": [],
   "source": [
    "print(a,b,c)"
   ]
  },
  {
   "cell_type": "code",
   "execution_count": null,
   "metadata": {},
   "outputs": [],
   "source": [
    "dfm['Marketing Budget'].max()"
   ]
  },
  {
   "cell_type": "markdown",
   "metadata": {},
   "source": [
    "We now have the $a,b,c$ for our linear model $z=ax+by+c$, and can plot it:"
   ]
  },
  {
   "cell_type": "code",
   "execution_count": null,
   "metadata": {},
   "outputs": [],
   "source": [
    "X = np.arange(0,dfm['Marketing Budget'].max(),0.1)\n",
    "Y = np.arange(0,dfm['Website Visits'].max(),0.1)\n",
    "xx, yy = np.meshgrid(X, Y);\n",
    "\n",
    "Z = a*xx + b*yy+c\n",
    "\n",
    "pln = m3d.Axes3D(plt.figure())\n",
    "pln.plot_wireframe(xx, yy, Z, rstride=10, cstride=10);\n",
    "plt.show();"
   ]
  },
  {
   "cell_type": "markdown",
   "metadata": {},
   "source": [
    "Now we can plot them with each other:"
   ]
  },
  {
   "cell_type": "code",
   "execution_count": null,
   "metadata": {},
   "outputs": [],
   "source": [
    "fig3d = m3d.Axes3D(plt.figure())\n",
    "fig3d.scatter3D(dfm['Marketing Budget'],dfm['Website Visits'],dfm['Number of Sales'],color='red')\n",
    "fig3d.plot_wireframe(xx, yy, Z, rstride=10, cstride=10);\n",
    "fig3d.set_xlabel('Marketing Budget ($100)')\n",
    "fig3d.set_ylabel('Website Visits (10)')\n",
    "fig3d.set_zlabel('Number of Sales')\n",
    "plt.show()"
   ]
  },
  {
   "cell_type": "code",
   "execution_count": null,
   "metadata": {},
   "outputs": [],
   "source": [
    "fig3d = m3d.Axes3D(plt.figure())\n",
    "fig3d.scatter3D(dfm['Marketing Budget'],dfm['Website Visits'],dfm['Number of Sales'],color='red')\n",
    "fig3d.plot_wireframe(xx, yy, Z, rstride=10, cstride=10);\n",
    "fig3d.set_xlabel('Marketing Budget ($100)')\n",
    "fig3d.set_ylabel('Website Visits (10)')\n",
    "fig3d.set_zlabel('Number of Sales')\n",
    "fig3d.view_init(0, -17)\n",
    "plt.show()"
   ]
  },
  {
   "cell_type": "code",
   "execution_count": null,
   "metadata": {},
   "outputs": [],
   "source": [
    "fig3d = m3d.Axes3D(plt.figure())\n",
    "fig3d.scatter3D(dfm['Marketing Budget'],dfm['Website Visits'],dfm['Number of Sales'],color='red')\n",
    "fig3d.plot_wireframe(xx, yy, Z, rstride=10, cstride=10);\n",
    "fig3d.set_xlabel('Marketing Budget ($100)')\n",
    "fig3d.set_ylabel('Website Visits (10)')\n",
    "fig3d.set_zlabel('Number of Sales')\n",
    "fig3d.view_init(25, 60)\n",
    "plt.show()"
   ]
  },
  {
   "cell_type": "markdown",
   "metadata": {},
   "source": [
    "We could now use this model to predict how many sales we would expect if we had a vendor who, say, spent $\\$160$ on marketing, and had 21 website visits."
   ]
  },
  {
   "cell_type": "code",
   "execution_count": null,
   "metadata": {},
   "outputs": [],
   "source": [
    "def marketing_model(budget, visits):\n",
    "    # We'll round to the nearest 1, since you can't really have a partial sale in this case.\n",
    "    return np.round(3.63665549764*budget + 6.5617198341*visits + 0.098233780527,0)\n",
    "\n",
    "marketing_model(1.6,2.1)"
   ]
  },
  {
   "cell_type": "markdown",
   "metadata": {},
   "source": [
    "## Spline Interpolation\n",
    "\n",
    "One numerical modelling technique that differs from regression is *spline interpolation*.  This method, being interpolative, is only useful for making a model that predicts points *between* our given data points, but not *outside* of boundaries.\n",
    "\n",
    "The idea behind spline interpolation is to take each of your data points and connect them with polynomials, such that the polynomials \"smoothly\" transition into each other (in the sense of calculus, that the transition from one polynomial to another is doubly differentiable).  Most spline interpolation packages restrict to using cubics, because they are the polynomial of the minimum degree to meet the smoothness criterion; this way the model does not become overly complicated.  Here is a visual diagram:"
   ]
  },
  {
   "cell_type": "markdown",
   "metadata": {},
   "source": [
    " <img src=\"http://i.imgur.com/QQj8x7S.png\",width=600,height=600>"
   ]
  },
  {
   "cell_type": "markdown",
   "metadata": {},
   "source": [
    "One of the advantages of this kind of modelling is that it necessarily *includes all of your data points*, which the regression models do not.  We use the `interp1d` function from SciPy (for one dimensional interpolation):"
   ]
  },
  {
   "cell_type": "code",
   "execution_count": null,
   "metadata": {
    "collapsed": true
   },
   "outputs": [],
   "source": [
    "from scipy.interpolate import interp1d"
   ]
  },
  {
   "cell_type": "markdown",
   "metadata": {},
   "source": [
    "We'll use our temperature data set to create a spline interpolation.  The syntax is `interp1d(x,y,kind='cubic')`; we set this to a variable, and then feed it a set of points to plot against as a function argument."
   ]
  },
  {
   "cell_type": "code",
   "execution_count": null,
   "metadata": {
    "collapsed": true
   },
   "outputs": [],
   "source": [
    "f2 = interp1d(t.index, t['Temp'], kind='cubic')"
   ]
  },
  {
   "cell_type": "code",
   "execution_count": null,
   "metadata": {},
   "outputs": [],
   "source": [
    "x2 = np.arange(0,5,0.01)\n",
    "scatter(t.index,t['Temp'],color='red')\n",
    "plt.plot(x2,f2(x2),color='green')"
   ]
  },
  {
   "cell_type": "markdown",
   "metadata": {},
   "source": [
    "Comparing it against the model we know works:"
   ]
  },
  {
   "cell_type": "code",
   "execution_count": null,
   "metadata": {},
   "outputs": [],
   "source": [
    "x2 = np.arange(0,5,0.01)\n",
    "scatter(t.index,t['Temp'], color='red')\n",
    "plt.plot(x2, cooling1(x2),color='blue',linestyle='--')\n",
    "plt.plot(x2,f2(x2),color='green')"
   ]
  },
  {
   "cell_type": "markdown",
   "metadata": {},
   "source": [
    "It follows the actual model fairly well, but some of the diversions occur because there are errors in our measurements (compare some of the points we measured against what the function says).  Choosing this interpolation method will depend on how accurate the data points we have are.\n",
    "\n",
    "Let's compare the well-fitting quadratic regression model for `(x_q,y_q)` against a spline interpolation model:"
   ]
  },
  {
   "cell_type": "code",
   "execution_count": null,
   "metadata": {},
   "outputs": [],
   "source": [
    "f3 = interp1d(x_q, y_q, kind='cubic')\n",
    "x_r = np.arange(0,5.5+0.01,0.01)\n",
    "scatter(x_q,y_q,color='red')\n",
    "plt.plot(x_r,f3(x_r),color='green')"
   ]
  },
  {
   "cell_type": "code",
   "execution_count": null,
   "metadata": {},
   "outputs": [],
   "source": [
    "x_r = np.arange(0,5.5+0.01,0.01)\n",
    "scatter(x_q,y_q,color='red')\n",
    "plt.plot(x_r,f3(x_r),color='green')\n",
    "plt.plot(x_r,p0 + p1*x_r + p2*(x_r**2), color='blue',linestyle='--');"
   ]
  },
  {
   "cell_type": "markdown",
   "metadata": {},
   "source": [
    "The spline model definitely fits better than the linear regression model did, and follows the quadratic model fairly closely (with a few diverging features).  \n",
    "\n",
    "Let's look at a practical example.  Suppose we have the following set of prices for a financial instrument, at the 5-second level:"
   ]
  },
  {
   "cell_type": "code",
   "execution_count": null,
   "metadata": {},
   "outputs": [],
   "source": [
    "pcs = [149.4, 149.5, 149.5, 149.7, 149.4, 149.5, 149.4, 149.6, 149.1, 149.5, 149.5, 149.3, 149.4, 149.5, 149.2, \n",
    "       149.5, 149.4, 149.5, 149.3, 149.6, 149.4]\n",
    "dfp = pd.DataFrame({'Price':pcs}, index=pd.date_range('2017-01-01 09:30:00',periods=21,freq='5S'))\n",
    "dfp.head()"
   ]
  },
  {
   "cell_type": "code",
   "execution_count": null,
   "metadata": {},
   "outputs": [],
   "source": [
    "scatter(list(range(0,21)),dfp['Price'])"
   ]
  },
  {
   "cell_type": "markdown",
   "metadata": {},
   "source": [
    "If we wanted to make a model to infer the prices between the 5-second timestamps, spline interpolation would be a good first choice of model, as it will make sure that the actual prices are included (since none of the regression nethods we've looked at would give us a model that would allow us to infer intra-measurement prices, and also include all of the data we have)."
   ]
  },
  {
   "cell_type": "code",
   "execution_count": null,
   "metadata": {
    "scrolled": false
   },
   "outputs": [],
   "source": [
    "p1 = interp1d(list(range(21)), dfp['Price'], kind='cubic')\n",
    "x_p = np.arange(0,20+0.009,0.01)\n",
    "scatter(list(range(0,21)),dfp['Price'])\n",
    "plt.plot(x_p,p1(x_p),color='green');"
   ]
  },
  {
   "cell_type": "markdown",
   "metadata": {},
   "source": [
    "We could now use the model to predict what the price was at 9:30:02, and at 9:31:28"
   ]
  },
  {
   "cell_type": "code",
   "execution_count": null,
   "metadata": {},
   "outputs": [],
   "source": [
    "p1(0.4) # why 0.4?"
   ]
  },
  {
   "cell_type": "code",
   "execution_count": null,
   "metadata": {},
   "outputs": [],
   "source": [
    "p1(17.6) # why 17.6?"
   ]
  },
  {
   "cell_type": "code",
   "execution_count": null,
   "metadata": {},
   "outputs": [],
   "source": [
    "x_p = np.arange(0,20+0.009,0.01)\n",
    "scatter(list(range(0,21)),dfp['Price'])\n",
    "scatter(0.4,p1(0.4),color='red',marker='D')\n",
    "scatter(17.6,p1(17.6),color='red',marker='D')\n",
    "plt.plot(x_p,p1(x_p),color='green');"
   ]
  },
  {
   "cell_type": "markdown",
   "metadata": {},
   "source": [
    "**Note**:  It's likely that these *weren't* the actual prices inbetween the given timestamps, but that's what the model is for:  if we didn't have access to the actual prices, a model will give us a way to infer what the prices probably were, based on the data we have at hand.  We choose a modelling mathod (and validation techniques, which we will see soon) which give us confidence in the predictions that have been made.\n",
    "\n",
    "Ultimately, spline interpolation is a good way to create a mathematically well-behaved model when you need to make sure that all of the data points are included in the model. "
   ]
  },
  {
   "cell_type": "markdown",
   "metadata": {},
   "source": [
    "### When not to use splines\n",
    "\n",
    "Recall the house prices vs size data we saw earlier:"
   ]
  },
  {
   "cell_type": "code",
   "execution_count": null,
   "metadata": {},
   "outputs": [],
   "source": [
    "plt.scatter(hp['Size'],hp['Price'], label='Price vs Size')\n",
    "plt.xlabel('House Size (Sq. Feet)')\n",
    "plt.ylabel('House Price ($1000s)')\n",
    "plt.legend()\n",
    "plt.grid()\n",
    "plt.show()"
   ]
  },
  {
   "cell_type": "markdown",
   "metadata": {},
   "source": [
    "In this data set, we don't have a continuous relation, but rather, a number of \"noisy\" data points which represent an underlying structure (the linear regression model we made); as a result, the individual data points do not need to be included in the model.  If we attempted to make a spline model for this:"
   ]
  },
  {
   "cell_type": "code",
   "execution_count": null,
   "metadata": {},
   "outputs": [],
   "source": [
    "house_spline = interp1d(hp['Size'], hp['Price'], kind='cubic')\n",
    "x_h = np.arange(hp['Size'][0],hp['Size'][len(hp)-1]+1,1)\n",
    "\n",
    "plt.scatter(hp['Size'],hp['Price'], label='Price vs Size')\n",
    "plt.plot(x_h,house_spline(x_h),color='green',label='Spline')\n",
    "plt.plot(hp['Size'], house_model(hp['Size']),color='red',label='Regression Model')\n",
    "plt.xlabel('House Size (Sq. Feet)')\n",
    "plt.ylabel('House Price ($1000s)')\n",
    "plt.legend()\n",
    "plt.grid()\n",
    "plt.show()"
   ]
  },
  {
   "cell_type": "markdown",
   "metadata": {},
   "source": [
    "We can see that the spline model is a very poor representation of the data, and massively overfits in many places.  Since the house prices have a very high correlation coefficient, and a visual inspection shows a \"noisy\" linear relationship, our best bet is to stick to the linear regression model."
   ]
  },
  {
   "cell_type": "markdown",
   "metadata": {},
   "source": [
    "# Assignment 7\n",
    "\n",
    "1. Take the data we had for the tea cooling, and fit a linear regression model to it.  Use the `cooling1(t)` function to expand the data set to include the value for `t=6`.  Make a linear regression model for this new data set.  By adding a single data point, by how much did the slope of the regression model increase or decrease (as a percentage of the original slope)?\n",
    "2. Using the marketing data `MLR.csv` from the multiple linear regression section, create individual single linear regression models for budget vs sales, and visits vs sales.  By what percentage were each of these models off from the value we got for `marketing_model(1.6,2.1)`?\n",
    "3. Consider the data set from the overfitting section: <br>\n",
    "`x1 = np.array([0.1,2.1,2.5,3.3,6.1,7.2,8.3,8.7,9.0])\n",
    "y1 = np.array([3.1,1.5,3.5,2.0,6.0,8.5,7.1,9.5,6.7])`<br>\n",
    " Create a cubic (degree 3 polynomial) regression model for it.  Suppose that it turned out there was an 11th data point we\n",
    " didn't know about before: `(x,y)=(10,8.9)`.  Which of the models (linear, cubic, and degree 5 polynomial) most accurately predicted this data point? (i.e.: for which model was the distance minimized between the model's prediction for `x=10` and the actual data point?)\n",
    "4. Use the `customer_info.csv` for these questions.  Instead of using sklearn's multiple linear regression, instead use statsmodel's OLS regression from `statsmodels.formula.api`.  Documentation can be found here:<br>\n",
    "http://www.statsmodels.org/dev/example_formulas.html<br>\n",
    "\n",
    "  1.  The big Telecom that you work for is interested in the relationship between the number of employees who work at a company, and how much they spend on different products. Perform two linear regressions, each with EMP as the independent variable, but with MOBILITY as the dependent variable in one and INTERNET as the dependent variable in the other. Describe in words the relationship between each of these revenue categories and the number of employees at a company. Do these results make sense to you? Why or why not?\n",
    "  2.   We are now interested in how the relationship between Mobility revenue and employees changes across different industries. Pick two industries to investigate, and create two data frames, each with data on one of your chosen industries. Run a regression on each data frame to see how the relationship between the number of employees changes between industries. Describe your findings in words. (Note: it would be good if we could organize ourselves so that at least one person is doing each possible pair of industries.)\n",
    "  3. Repeat the same exercise with Internet revenue instead of Mobility.\n",
    "  4. (Optional) To see how effects differ across categorical variables using a regression, it is useful to use an interaction term. Use an interaction term to investigate the effect of employees on mobility across all industries.\n",
    "  5.  Use your findings to make a recommendation to the marketing team about how they could use information about how many employees work at companies to create campaigns with the highest return.\n",
    "\n",
    "5. (Bonus) Using the cooling model we made for the cup of tea, find the precise time (minutes, to within 2 decimal places) that the tea reaches room temperature. "
   ]
  },
  {
   "cell_type": "markdown",
   "metadata": {
    "collapsed": true
   },
   "source": [
    "# Appendix\n",
    "\n",
    "We learned that we can multiply two matrices, $A$ and $B$, to get a new matrix $AB$ if the number of *columns* of $A$ equals the number of *rows* of $B$; i.e.: if $A$ is $m\\times n$ and $B$ is $j\\times k$, then we can multiply $AB$ if and only if $n=j$.  For example, if $A$ is $3\\times 2$, and $B$ is $2\\times 5$, then we can multiply $AB$; the result will be a $3\\times 5$ matrix.\n",
    "\n",
    "If the matrices involved are *square* (the number of rows and columns are the same) of the same size, then we can always multiply them.  There is a special matrix, called the *identity matrix*, which consists of $1$s on the main diagonal, and $0$s everywhere else.  The $3\\times 3$ identity matrix looks like this:\n",
    "\n",
    "$$ I = \\begin{bmatrix}1 & 0 & 0 \\\\ 0 & 1 & 0 \\\\ 0 & 0 & 1  \\end{bmatrix} $$\n",
    "\n",
    "What's special about the identity matrix is that if you multiply it with any other matrix $A$ (of the same size), then the result is $A$.  The analogy is that when you multiply any number $x$ by $1$, it doesn't change $x$.\n",
    "\n",
    "Certain square matrices have the special property that they are *invertible*:  a square matrix $A$ is invertible if there exists another matrix $B$ such that $AB = BA = I$.  If such a $B$ exists, we label it $A^{-1}$, the *inverse* of $A$.  Figuring out whether a matrix is invertible involves computing the determinant, and finding the inverse involves a series of linear equations (which is what computers are good at).  So in the equation we saw above\n",
    "\n",
    "$$ \\beta = (\\bf{X}^T\\bf{X})^{-1}\\bf{X}^T\\bf{y}$$\n",
    "\n",
    "the matrix $(\\bf{X}^T\\bf{X})$ is invertible specifically because of the condition \"no perfect correlation (1 or -1) between any two of the $\\bf{x}_i$\"."
   ]
  }
 ],
 "metadata": {
  "kernelspec": {
   "display_name": "Python 3",
   "language": "python",
   "name": "python3"
  },
  "language_info": {
   "codemirror_mode": {
    "name": "ipython",
    "version": 3
   },
   "file_extension": ".py",
   "mimetype": "text/x-python",
   "name": "python",
   "nbconvert_exporter": "python",
   "pygments_lexer": "ipython3",
   "version": "3.6.5"
  }
 },
 "nbformat": 4,
 "nbformat_minor": 2
}
